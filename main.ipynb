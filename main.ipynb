{
 "cells": [
  {
   "cell_type": "markdown",
   "id": "eb6670f6-968e-411a-9f87-ac5bfb2f47d4",
   "metadata": {},
   "source": [
    "# PyBank | Analysis\n"
   ]
  },
  {
   "cell_type": "code",
   "execution_count": 1,
   "id": "e5651f4d-4010-4e7d-ac77-fc9330c50e05",
   "metadata": {},
   "outputs": [],
   "source": [
    "# importing necessary modules\n",
    "from pathlib import Path\n",
    "import csv"
   ]
  },
  {
   "cell_type": "code",
   "execution_count": 2,
   "id": "632a6cd1-46a4-452e-9538-a764eb3ab4e7",
   "metadata": {},
   "outputs": [],
   "source": [
    "# Create empty 'month_list' and 'profit_list' lists\n",
    "month_list = [] \n",
    "profit_list = []\n",
    "# Creating 'total_months' and 'total_profits' variables and set to 0\n",
    "total_months = 0 \n",
    "total_profits = 0 "
   ]
  },
  {
   "cell_type": "code",
   "execution_count": 3,
   "id": "8831ab1d-d3fb-4f4a-873a-507a855cc7ab",
   "metadata": {},
   "outputs": [],
   "source": [
    "# Setting variable for the path to our data\n",
    "budget_path = Path('./Resources/budget_data.csv')"
   ]
  },
  {
   "cell_type": "code",
   "execution_count": 4,
   "id": "1c4b3729-620b-44e9-9253-7ab00382c063",
   "metadata": {},
   "outputs": [],
   "source": [
    "# Open budget_data.csv\n",
    "with open(budget_path, newline=\"\") as csvfile:\n",
    "    # Read budget data\n",
    "    csvreader = csv.reader(csvfile, delimiter=\",\")\n",
    "    # Skip the header\n",
    "    csv_header = next(csvreader) \n",
    "    \n",
    "    # Using loop, slice the rows in data and append to our empty lists and add rows to 'total_months' and 'total_profits'\n",
    "    for row in csvfile:     \n",
    "        month_list.append(row[:8])\n",
    "        profit_list.append(row[9:]) \n",
    "        total_months +=len(row[0]) \n",
    "        total_profits += int(row[9:])"
   ]
  },
  {
   "cell_type": "code",
   "execution_count": 5,
   "id": "46b5f68a-d9b4-453c-933b-3ff365bc52fd",
   "metadata": {},
   "outputs": [],
   "source": [
    "# Set variable 'change_in_pnl' to store change in profits and losses list \n",
    "change_in_pnl = [int(current_month) - int(previous_month) for previous_month, current_month in zip(profit_list, profit_list[1:])] \n",
    "\n",
    "# Sort the change in Profits/Losses \n",
    "change_sorted = sorted(change_in_pnl) \n",
    "average = round(sum(change_in_pnl)/len(change_in_pnl),2)     "
   ]
  },
  {
   "cell_type": "code",
   "execution_count": 6,
   "id": "f47a5da5-9f9d-4ed2-9d10-fc7a92f10f5d",
   "metadata": {},
   "outputs": [],
   "source": [
    "# Set variables for the greatest profit month and the loss month using our sorted list\n",
    "profit_month = change_in_pnl.index(change_sorted[-1]) + 1\n",
    "loss_month = change_in_pnl.index(change_sorted[0]) + 1 "
   ]
  },
  {
   "cell_type": "code",
   "execution_count": 7,
   "id": "fe9918be-85e5-46f7-906e-c9522531f523",
   "metadata": {},
   "outputs": [],
   "source": [
    "# Set variable for put export file path\n",
    "text_path = ('./Resources/pybank_analysis.txt')\n",
    "\n",
    "# Writing the analysis to our text file with print\n",
    "with open(text_path, 'w') as f: \n",
    "    print(f\"\"\"Financial Analysis \n",
    "-------------------------------------------------\"\"\", file=f)\n",
    "    print(f\"Total number of months: {total_months}\", file=f)\n",
    "    print(f\"Net total of Profit/Losses over the entire period: ${total_profits}\", file=f)\n",
    "    print(f\"Average  Change in Profit/Losses: ${average}\", file=f)\n",
    "    print(f\"Greatest Increase in Profits: {month_list[profit_month]} (${change_sorted[-1]})\", file=f)\n",
    "    print(f\"Greatest Decrease in Profits: {month_list[loss_month]} (${change_sorted[0]})\", file=f)"
   ]
  }
 ],
 "metadata": {
  "interpreter": {
   "hash": "40d3a090f54c6569ab1632332b64b2c03c39dcf918b08424e98f38b5ae0af88f"
  },
  "kernelspec": {
   "display_name": "Python 3.9.12 ('base')",
   "language": "python",
   "name": "python3"
  },
  "language_info": {
   "codemirror_mode": {
    "name": "ipython",
    "version": 3
   },
   "file_extension": ".py",
   "mimetype": "text/x-python",
   "name": "python",
   "nbconvert_exporter": "python",
   "pygments_lexer": "ipython3",
   "version": "3.9.12"
  }
 },
 "nbformat": 4,
 "nbformat_minor": 5
}
